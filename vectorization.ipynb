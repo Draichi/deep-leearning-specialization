{
 "cells": [
  {
   "cell_type": "markdown",
   "id": "71028503-add7-4fd2-bf65-df0d574b1e2b",
   "metadata": {},
   "source": [
    "## Vector multiply"
   ]
  },
  {
   "cell_type": "code",
   "execution_count": 37,
   "id": "237fffed-b854-4c30-b6e9-9ad2673f50e9",
   "metadata": {},
   "outputs": [
    {
     "name": "stdout",
     "output_type": "stream",
     "text": [
      "Vector multiply took 0.81 ms\n",
      "c = 249683.548495\n"
     ]
    }
   ],
   "source": [
    "import numpy as np\n",
    "import time\n",
    "\n",
    "a = np.random.rand(1000000)\n",
    "b = np.random.rand(1000000)\n",
    "\n",
    "tic = time.time()\n",
    "c = np.dot(a, b)\n",
    "toc = time.time()\n",
    "\n",
    "print(f\"Vector multiply took {1000*(toc-tic):.2f} ms\")\n",
    "print(f\"c = {c:.6f}\")"
   ]
  },
  {
   "cell_type": "markdown",
   "id": "bbe0163e-9b00-4d1c-a537-9c97537dd0ac",
   "metadata": {},
   "source": [
    "## For loop"
   ]
  },
  {
   "cell_type": "code",
   "execution_count": 38,
   "id": "d4179999-b1e7-4532-ad40-aeb9f06c7823",
   "metadata": {},
   "outputs": [
    {
     "name": "stdout",
     "output_type": "stream",
     "text": [
      "For loop took 261.72 ms\n",
      "c = 249683.548495\n"
     ]
    }
   ],
   "source": [
    "c = 0\n",
    "tic = time.time()\n",
    "for i in range(1000000):\n",
    "    c += a[i] * b[i]\n",
    "toc = time.time()\n",
    "\n",
    "print(f\"For loop took {1000*(toc-tic):.2f} ms\")\n",
    "print(f\"c = {c:.6f}\")"
   ]
  },
  {
   "cell_type": "code",
   "execution_count": null,
   "id": "8f683a7b-fa8b-4f04-a9ec-334cf2e6597f",
   "metadata": {},
   "outputs": [],
   "source": []
  }
 ],
 "metadata": {
  "kernelspec": {
   "display_name": "Python 3 (ipykernel)",
   "language": "python",
   "name": "python3"
  },
  "language_info": {
   "codemirror_mode": {
    "name": "ipython",
    "version": 3
   },
   "file_extension": ".py",
   "mimetype": "text/x-python",
   "name": "python",
   "nbconvert_exporter": "python",
   "pygments_lexer": "ipython3",
   "version": "3.12.0"
  }
 },
 "nbformat": 4,
 "nbformat_minor": 5
}
